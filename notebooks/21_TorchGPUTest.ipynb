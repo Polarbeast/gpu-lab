{
 "cells": [
  {
   "cell_type": "markdown",
   "metadata": {},
   "source": [
    "# PyTorch CUDA Test"
   ]
  },
  {
   "cell_type": "code",
   "execution_count": 1,
   "metadata": {},
   "outputs": [],
   "source": [
    "import torch"
   ]
  },
  {
   "cell_type": "code",
   "execution_count": 2,
   "metadata": {},
   "outputs": [
    {
     "data": {
      "text/plain": [
       "True"
      ]
     },
     "execution_count": 2,
     "metadata": {},
     "output_type": "execute_result"
    }
   ],
   "source": [
    "torch.cuda.is_available()"
   ]
  },
  {
   "cell_type": "code",
   "execution_count": 3,
   "metadata": {},
   "outputs": [
    {
     "data": {
      "text/plain": [
       "1"
      ]
     },
     "execution_count": 3,
     "metadata": {},
     "output_type": "execute_result"
    }
   ],
   "source": [
    "torch.cuda.device_count()"
   ]
  },
  {
   "cell_type": "code",
   "execution_count": 4,
   "metadata": {},
   "outputs": [
    {
     "name": "stdout",
     "output_type": "stream",
     "text": [
      "tensor([[0.6684, 0.6918, 0.3228, 0.6555, 0.6795],\n",
      "        [0.2302, 0.5329, 0.5622, 0.4000, 0.7667],\n",
      "        [0.9127, 0.8541, 0.8870, 0.4095, 0.1043],\n",
      "        [0.0250, 0.2224, 0.8410, 0.3443, 0.0731],\n",
      "        [0.6962, 0.3126, 0.5870, 0.0209, 0.9542]], device='cuda:0')\n",
      "tensor([[0.6684, 0.6918, 0.3228, 0.6555, 0.6795],\n",
      "        [0.2302, 0.5329, 0.5622, 0.4000, 0.7667],\n",
      "        [0.9127, 0.8541, 0.8870, 0.4095, 0.1043],\n",
      "        [0.0250, 0.2224, 0.8410, 0.3443, 0.0731],\n",
      "        [0.6962, 0.3126, 0.5870, 0.0209, 0.9542]], dtype=torch.float64)\n"
     ]
    }
   ],
   "source": [
    "device = torch.device(\"cuda\")\n",
    "x = torch.rand(10000, 10000, device=device)\n",
    "y = x.to(\"cpu\", torch.double)\n",
    "print(x[0:5, 0:5])\n",
    "print(y[0:5, 0:5])"
   ]
  },
  {
   "cell_type": "markdown",
   "metadata": {},
   "source": [
    "# CPU Test"
   ]
  },
  {
   "cell_type": "code",
   "execution_count": 6,
   "metadata": {},
   "outputs": [
    {
     "name": "stdout",
     "output_type": "stream",
     "text": [
      "tensor([[0.3342, 0.3459, 0.1614, 0.3278, 0.3398],\n",
      "        [0.1151, 0.2664, 0.2811, 0.2000, 0.3834],\n",
      "        [0.4564, 0.4270, 0.4435, 0.2047, 0.0521],\n",
      "        [0.0125, 0.1112, 0.4205, 0.1722, 0.0366],\n",
      "        [0.3481, 0.1563, 0.2935, 0.0105, 0.4771]], dtype=torch.float64)\n",
      "CPU times: user 32.9 s, sys: 27.1 s, total: 1min\n",
      "Wall time: 11.1 s\n"
     ]
    }
   ],
   "source": [
    "%%time\n",
    "for i in range(0,100):\n",
    "    ym = y * .5\n",
    "    \n",
    "print(ym[0:5, 0:5])"
   ]
  },
  {
   "cell_type": "markdown",
   "metadata": {},
   "source": [
    "# GPU Test"
   ]
  },
  {
   "cell_type": "code",
   "execution_count": 9,
   "metadata": {},
   "outputs": [
    {
     "name": "stdout",
     "output_type": "stream",
     "text": [
      "tensor([[0.3342, 0.3459, 0.1614, 0.3278, 0.3398],\n",
      "        [0.1151, 0.2664, 0.2811, 0.2000, 0.3834],\n",
      "        [0.4564, 0.4270, 0.4435, 0.2047, 0.0521],\n",
      "        [0.0125, 0.1112, 0.4205, 0.1722, 0.0366],\n",
      "        [0.3481, 0.1563, 0.2935, 0.0105, 0.4771]], device='cuda:0')\n",
      "CPU times: user 401 ms, sys: 2.9 ms, total: 404 ms\n",
      "Wall time: 404 ms\n"
     ]
    }
   ],
   "source": [
    "%%time\n",
    "for i in range(0,100):\n",
    "    xm = x * .5\n",
    "\n",
    "print(xm[0:5, 0:5])"
   ]
  },
  {
   "cell_type": "markdown",
   "metadata": {},
   "source": [
    "# Long Running GPU Test"
   ]
  },
  {
   "cell_type": "code",
   "execution_count": 10,
   "metadata": {},
   "outputs": [
    {
     "name": "stdout",
     "output_type": "stream",
     "text": [
      "tensor([[0.3342, 0.3459, 0.1614, 0.3278, 0.3398],\n",
      "        [0.1151, 0.2664, 0.2811, 0.2000, 0.3834],\n",
      "        [0.4564, 0.4270, 0.4435, 0.2047, 0.0521],\n",
      "        [0.0125, 0.1112, 0.4205, 0.1722, 0.0366],\n",
      "        [0.3481, 0.1563, 0.2935, 0.0105, 0.4771]], device='cuda:0')\n",
      "CPU times: user 3min 10s, sys: 2min 39s, total: 5min 50s\n",
      "Wall time: 5min 51s\n"
     ]
    }
   ],
   "source": [
    "%%time\n",
    "for i in range(0,90000):\n",
    "    xm = x * .5\n",
    "\n",
    "print(xm[0:5, 0:5])"
   ]
  },
  {
   "cell_type": "code",
   "execution_count": null,
   "metadata": {},
   "outputs": [],
   "source": []
  }
 ],
 "metadata": {
  "kernelspec": {
   "display_name": "Python 3",
   "language": "python",
   "name": "python3"
  },
  "language_info": {
   "codemirror_mode": {
    "name": "ipython",
    "version": 3
   },
   "file_extension": ".py",
   "mimetype": "text/x-python",
   "name": "python",
   "nbconvert_exporter": "python",
   "pygments_lexer": "ipython3",
   "version": "3.7.8"
  }
 },
 "nbformat": 4,
 "nbformat_minor": 4
}
